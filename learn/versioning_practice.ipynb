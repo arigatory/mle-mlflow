{
 "cells": [
  {
   "cell_type": "code",
   "execution_count": 2,
   "id": "34be883c",
   "metadata": {},
   "outputs": [],
   "source": [
    "import os\n",
    "import mlflow\n",
    "import psycopg2 as psycopg\n",
    "import pandas as pd\n",
    "import numpy as np\n",
    "import sklearn\n",
    "from sklearn.model_selection import train_test_split\n",
    "from sklearn.linear_model import LogisticRegression\n",
    "from sklearn.preprocessing import StandardScaler\n",
    "from sklearn.impute import SimpleImputer\n",
    "from sklearn.metrics import roc_auc_score, precision_score, recall_score, f1_score"
   ]
  },
  {
   "cell_type": "code",
   "execution_count": 4,
   "id": "238f9c85",
   "metadata": {},
   "outputs": [],
   "source": [
    "\n",
    "# Настройка MLflow\n",
    "EXPERIMENT_NAME = \"churn_ivan_panchenko\"\n",
    "RUN_NAME = \"model_0_registry\"\n",
    "REGISTRY_MODEL_NAME = \"churn_model_ivan_panchenko\"\n",
    "TRACKING_SERVER_HOST = \"127.0.0.1\"\n",
    "TRACKING_SERVER_PORT = 5000\n",
    "\n",
    "\n",
    "# Настройка окружения\n",
    "os.environ[\"MLFLOW_S3_ENDPOINT_URL\"] = \"https://storage.yandexcloud.net\"\n",
    "os.environ[\"AWS_ACCESS_KEY_ID\"] = os.getenv(\"AWS_ACCESS_KEY_ID\")\n",
    "os.environ[\"AWS_SECRET_ACCESS_KEY\"] = os.getenv(\"AWS_SECRET_ACCESS_KEY\")\n",
    "\n",
    "mlflow.set_tracking_uri(f\"http://{TRACKING_SERVER_HOST}:{TRACKING_SERVER_PORT}\")\n",
    "mlflow.set_registry_uri(f\"http://{TRACKING_SERVER_HOST}:{TRACKING_SERVER_PORT}\")\n"
   ]
  },
  {
   "cell_type": "code",
   "execution_count": 5,
   "id": "ec3cb315",
   "metadata": {},
   "outputs": [],
   "source": [
    "\n",
    "# Подключение к базе данных и получение данных\n",
    "connection = {\"sslmode\": \"require\", \"target_session_attrs\": \"read-write\"}\n",
    "postgres_credentials = {\n",
    "    \"host\": os.getenv('DB_DESTINATION_HOST'),\n",
    "    \"port\": os.getenv('DB_DESTINATION_PORT'),\n",
    "    \"dbname\": os.getenv('DB_DESTINATION_NAME'),\n",
    "    \"user\": os.getenv('DB_DESTINATION_USER'),\n",
    "    \"password\": os.getenv('DB_DESTINATION_PASSWORD')\n",
    "}\n",
    "assert all([var_value != \"\" for var_value in list(postgres_credentials.values())])\n",
    "\n",
    "connection.update(postgres_credentials)\n",
    "\n",
    "TABLE_NAME = \"users_churn\"\n",
    "\n",
    "with psycopg.connect(**connection) as conn:\n",
    "    with conn.cursor() as cur:\n",
    "        cur.execute(f\"SELECT * FROM {TABLE_NAME}\")\n",
    "        data = cur.fetchall()\n",
    "        columns = [col[0] for col in cur.description]\n",
    "\n",
    "df = pd.DataFrame(data, columns=columns)\n"
   ]
  },
  {
   "cell_type": "code",
   "execution_count": 6,
   "id": "71e70b8a",
   "metadata": {},
   "outputs": [],
   "source": [
    "\n",
    "# Подготовка данных\n",
    "X = df.drop(['target', 'customer_id', 'begin_date', 'end_date'], axis=1)\n",
    "y = df['target']\n",
    "\n",
    "X = pd.get_dummies(X, drop_first=True)\n",
    "\n",
    "X_train, X_test, y_train, y_test = train_test_split(X, y, test_size=0.2, random_state=42)\n",
    "\n",
    "imputer = SimpleImputer(strategy='mean')\n",
    "X_train_imputed = imputer.fit_transform(X_train)\n",
    "X_test_imputed = imputer.transform(X_test)\n",
    "\n",
    "scaler = StandardScaler()\n",
    "X_train_scaled = scaler.fit_transform(X_train_imputed)\n",
    "X_test_scaled = scaler.transform(X_test_imputed)\n",
    "\n",
    "# Обучение модели\n",
    "model = LogisticRegression(random_state=42)\n",
    "model.fit(X_train_scaled, y_train)\n",
    "\n",
    "# Получение предсказаний\n",
    "prediction = model.predict(X_test_scaled)\n",
    "proba = model.predict_proba(X_test_scaled)[:, 1]\n"
   ]
  },
  {
   "cell_type": "code",
   "execution_count": 7,
   "id": "48e0212b",
   "metadata": {},
   "outputs": [],
   "source": [
    "# Расчет метрик\n",
    "roc_auc = roc_auc_score(y_test, proba)\n",
    "precision = precision_score(y_test, prediction)\n",
    "recall = recall_score(y_test, prediction)\n",
    "f1 = f1_score(y_test, prediction)\n"
   ]
  },
  {
   "cell_type": "code",
   "execution_count": 8,
   "id": "f439eeb8",
   "metadata": {},
   "outputs": [],
   "source": [
    "# Подготовка артефактов для MLflow\n",
    "pip_requirements = [f\"scikit-learn=={sklearn.__version__}\", f\"pandas=={pd.__version__}\"]\n",
    "signature = mlflow.models.infer_signature(X_test_scaled, prediction)\n",
    "input_example = X_test_scaled[:5]\n",
    "metadata = {\"description\": \"Logistic Regression model for churn prediction\"}\n"
   ]
  },
  {
   "cell_type": "code",
   "execution_count": 11,
   "id": "2bf3960f",
   "metadata": {},
   "outputs": [],
   "source": [
    "# Логирование модели и метрик в MLflow\n",
    "experiment_id = mlflow.get_experiment_by_name(EXPERIMENT_NAME).experiment_id"
   ]
  },
  {
   "cell_type": "code",
   "execution_count": 12,
   "id": "986ba7c0",
   "metadata": {},
   "outputs": [
    {
     "data": {
      "text/plain": [
       "'11'"
      ]
     },
     "execution_count": 12,
     "metadata": {},
     "output_type": "execute_result"
    }
   ],
   "source": [
    "experiment_id"
   ]
  },
  {
   "cell_type": "code",
   "execution_count": 13,
   "id": "b654a0b3",
   "metadata": {},
   "outputs": [
    {
     "name": "stderr",
     "output_type": "stream",
     "text": [
      "Registered model 'churn_model_ivan_panchenko' already exists. Creating a new version of this model...\n",
      "2025/08/05 13:04:46 INFO mlflow.tracking._model_registry.client: Waiting up to 300 seconds for model version to finish creation. Model name: churn_model_ivan_panchenko, version 2\n"
     ]
    },
    {
     "name": "stdout",
     "output_type": "stream",
     "text": [
      "Model logged with run_id: f576840ade3245bbba26102b0f2cbf25\n",
      "Model version: 2\n"
     ]
    },
    {
     "name": "stderr",
     "output_type": "stream",
     "text": [
      "Created version '2' of model 'churn_model_ivan_panchenko'.\n"
     ]
    }
   ],
   "source": [
    "\n",
    "with mlflow.start_run(run_name=RUN_NAME, experiment_id=experiment_id) as run:\n",
    "    run_id = run.info.run_id\n",
    "    \n",
    "    # Логирование метрик\n",
    "    mlflow.log_metric(\"roc_auc\", roc_auc)\n",
    "    mlflow.log_metric(\"precision\", precision)\n",
    "    mlflow.log_metric(\"recall\", recall)\n",
    "    mlflow.log_metric(\"f1\", f1)\n",
    "    \n",
    "    # Логирование модели\n",
    "    mlflow.sklearn.log_model(\n",
    "        sk_model=model,\n",
    "        artifact_path=\"model\",\n",
    "        pip_requirements=pip_requirements,\n",
    "        signature=signature,\n",
    "        input_example=input_example,\n",
    "        registered_model_name=REGISTRY_MODEL_NAME,\n",
    "        metadata=metadata\n",
    "    )\n",
    "\n",
    "print(f\"Model logged with run_id: {run_id}\")\n",
    "\n",
    "# Получение версии модели\n",
    "client = mlflow.tracking.MlflowClient()\n",
    "model_version = client.get_latest_versions(REGISTRY_MODEL_NAME, stages=[\"None\"])[0].version\n",
    "\n",
    "print(f\"Model version: {model_version}\")"
   ]
  },
  {
   "cell_type": "code",
   "execution_count": 14,
   "id": "9c914efb",
   "metadata": {},
   "outputs": [
    {
     "name": "stdout",
     "output_type": "stream",
     "text": [
      "Model churn_model_ivan_panchenko version 2 transitioned to Production stage\n"
     ]
    }
   ],
   "source": [
    "# Получение последней версии модели\n",
    "client = mlflow.tracking.MlflowClient()\n",
    "latest_version = client.get_latest_versions(REGISTRY_MODEL_NAME, stages=[\"None\"])[0].version\n",
    "\n",
    "# Переход модели в стадию \"Production\"\n",
    "client.transition_model_version_stage(\n",
    "    name=REGISTRY_MODEL_NAME,\n",
    "    version=latest_version,\n",
    "    stage=\"Production\"\n",
    ")\n",
    "\n",
    "print(f\"Model {REGISTRY_MODEL_NAME} version {latest_version} transitioned to Production stage\")"
   ]
  },
  {
   "cell_type": "markdown",
   "id": "792b6fc2",
   "metadata": {},
   "source": [
    "Должно быть как-то так:\n",
    "\n",
    "Registered model **'{your_model_name}'** already exists. Creating a new version of this model...\n",
    "2023/10/19 17:34:03 INFO mlflow.tracking._model_registry.client: Waiting up to 60 seconds for model version to finish creation. Model name: **'{your_model_name}'**, version 2\n",
    "Created version '2' of model **'{your_model_name}'.** "
   ]
  },
  {
   "cell_type": "code",
   "execution_count": null,
   "id": "46dbed7b",
   "metadata": {},
   "outputs": [],
   "source": []
  }
 ],
 "metadata": {
  "kernelspec": {
   "display_name": "mlflow_venv",
   "language": "python",
   "name": "python3"
  },
  "language_info": {
   "codemirror_mode": {
    "name": "ipython",
    "version": 3
   },
   "file_extension": ".py",
   "mimetype": "text/x-python",
   "name": "python",
   "nbconvert_exporter": "python",
   "pygments_lexer": "ipython3",
   "version": "3.10.12"
  }
 },
 "nbformat": 4,
 "nbformat_minor": 5
}
